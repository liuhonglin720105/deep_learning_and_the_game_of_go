{
 "cells": [
  {
   "cell_type": "markdown",
   "id": "9bc50af1-6e07-44a0-bd5b-f0a7e9e1e077",
   "metadata": {},
   "source": [
    "# 第四章 使用树搜索下其\n",
    "- 用极小极大算法找到最佳动作\n",
    "- 对极小化极大树搜索剪枝，加快速度\n",
    "- 将蒙特卡洛树搜索应用于游戏"
   ]
  },
  {
   "cell_type": "markdown",
   "id": "37db69d0-d928-410d-8c47-dcc53a65ebd5",
   "metadata": {},
   "source": [
    "在计算机科学中，`树搜索算法`是一类搜索策略，这些算法循环遍历许多可能的决策序列，并找到那些能产生最佳结果的决策。"
   ]
  },
  {
   "cell_type": "markdown",
   "id": "5b51ae4c-5d9b-485a-af93-1ac0dea86fc0",
   "metadata": {},
   "source": [
    "## 4.1 游戏分类\n",
    "- 确定与不确定\n",
    "- 完全透明和隐藏信息"
   ]
  }
 ],
 "metadata": {
  "kernelspec": {
   "display_name": "Python 3 (ipykernel)",
   "language": "python",
   "name": "python3"
  },
  "language_info": {
   "codemirror_mode": {
    "name": "ipython",
    "version": 3
   },
   "file_extension": ".py",
   "mimetype": "text/x-python",
   "name": "python",
   "nbconvert_exporter": "python",
   "pygments_lexer": "ipython3",
   "version": "3.10.9"
  }
 },
 "nbformat": 4,
 "nbformat_minor": 5
}
