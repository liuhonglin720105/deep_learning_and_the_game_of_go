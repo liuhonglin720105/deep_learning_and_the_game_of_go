{
 "cells": [
  {
   "cell_type": "markdown",
   "id": "9bc50af1-6e07-44a0-bd5b-f0a7e9e1e077",
   "metadata": {},
   "source": [
    "# 第四章 使用树搜索下其\n",
    "- 用极小极大算法找到最佳动作\n",
    "- 对极小化极大树搜索剪枝，加快速度\n",
    "- 将蒙特卡洛树搜索应用于游戏"
   ]
  },
  {
   "cell_type": "markdown",
   "id": "37db69d0-d928-410d-8c47-dcc53a65ebd5",
   "metadata": {},
   "source": [
    "在计算机科学中，`树搜索算法`是一类搜索策略，这些算法循环遍历许多可能的决策序列，并找到那些能产生最佳结果的决策。"
   ]
  },
  {
   "cell_type": "markdown",
   "id": "5b51ae4c-5d9b-485a-af93-1ac0dea86fc0",
   "metadata": {},
   "source": [
    "## 4.1 游戏分类\n",
    "- 确定与不确定\n",
    "- 完全透明和隐藏信息\n",
    "\n",
    "## 4.2 利用极小极大法搜索树预测对手\n",
    "我们期望自己的得分最大化，二对手则希望我们的得分最小化。\n",
    "\n",
    "代码清单4-1 找到可以立刻赢得比赛的动作"
   ]
  },
  {
   "cell_type": "code",
   "execution_count": 1,
   "id": "5a64df8b-4bd8-46cb-9604-721a11a6fe44",
   "metadata": {},
   "outputs": [],
   "source": [
    "def find_winning_move(game_state, next_player):\n",
    "    for candidate_move in game_state.legal_moves(next_player):\n",
    "        next_state = game_state.apply_move(candidate_move)\n",
    "        if next_state.is_over() and next_state.winner == next_player():\n",
    "            return candidate_move # This move will win, no need to seach again\n",
    "        return None # Can't win in this round."
   ]
  },
  {
   "cell_type": "markdown",
   "id": "29b1d160-990d-4d35-9c5f-70ae37f658cf",
   "metadata": {},
   "source": [
    "代码清单 4-2: 避免让对手直接获胜的函数"
   ]
  },
  {
   "cell_type": "code",
   "execution_count": 2,
   "id": "def8fdcf-d3bc-41ba-bb32-bccd13890975",
   "metadata": {},
   "outputs": [],
   "source": [
    "def eliminate_losing_moves(game_state, next_player):\n",
    "    opponent = next_player.other()\n",
    "    possible_moves = []\n",
    "    for candidate_move in game_state.legal_moves(next_playe):\n",
    "        next_state = game_state.apply_move(candidate_move)\n",
    "        opponent_winning_move = find_winning_move(next_state, opponent)\n",
    "        if opponent_winning_move is None:\n",
    "            possible_moves.append(candidate_move)\n",
    "    return possible_moves"
   ]
  },
  {
   "cell_type": "markdown",
   "id": "c7b4360a-f35d-4f8f-9997-8304de495fe8",
   "metadata": {},
   "source": [
    "尝试寻找一个动作，让对手无法阻止我们后续的获胜动作。\n",
    "\n",
    "代码清单 4-3 找到两步棋之后可以保证获胜的函数"
   ]
  },
  {
   "cell_type": "code",
   "execution_count": 4,
   "id": "a76055ce-8c6a-42cc-8782-b70f3bdd39fe",
   "metadata": {},
   "outputs": [],
   "source": [
    "def find_two_step_win(game_state, next_player):\n",
    "    oponent = next_player.other()\n",
    "    for candidate_move in game_state.legal_moves(next_player):\n",
    "        next_state = game_state.apply_move(candidate_move)\n",
    "        good_responses = eliminating_losing_move(next_state, opponent)\n",
    "    if not good_responses:\n",
    "        return candidate_move\n",
    "    return None"
   ]
  },
  {
   "cell_type": "markdown",
   "id": "5e050362-7c17-4bd7-8d0a-15281a4ae22d",
   "metadata": {
    "tags": []
   },
   "source": [
    "通用策略的雏形\n",
    "1. 先检查是否可以在下一步直接获胜，如果可以，就这样行动。\n",
    "2. 如果不可以，在看看对手能否在下一步获胜，如果能，尝试阻止它\n",
    "3. 如果对手不能获胜，再看看能否通过第二步棋获胜，如果能，就按这两步棋落子\n",
    "4. 如果不能，再看对手的第二步棋是否能获胜"
   ]
  },
  {
   "cell_type": "markdown",
   "id": "61e9b5a1-e952-4d68-b722-c67f51cf7224",
   "metadata": {},
   "source": [
    "## 井字棋推演：极大极小算法的例子\n",
    "\n",
    "首先定义表示棋局结果的三种可能"
   ]
  },
  {
   "cell_type": "code",
   "execution_count": 6,
   "id": "cd3c17e4-01d3-4326-bb23-4d14b68ed5aa",
   "metadata": {},
   "outputs": [],
   "source": [
    "import enum\n",
    "class GameResult(enum.Enum):\n",
    "    loss = 1\n",
    "    draw = 2\n",
    "    win = 3"
   ]
  },
  {
   "cell_type": "markdown",
   "id": "7a52f3b0-44a3-4ea7-b980-f227729dd3b5",
   "metadata": {},
   "source": [
    "假设有个函数`best_result`， 可以给出某个游戏转台之后棋手能够获得的最佳结果，那么可以轻松地写一个函数在回合中选择动作：遍历所有可能的动作，逐一调用`best_result`， 然后选择其中最佳的动作即可。如果有多个动作能得到相同结果，则随机选择一个"
   ]
  },
  {
   "cell_type": "code",
   "execution_count": 8,
   "id": "40c76898-0bfb-489e-ac31-2ad94e797f90",
   "metadata": {},
   "outputs": [
    {
     "ename": "NameError",
     "evalue": "name 'agent' is not defined",
     "output_type": "error",
     "traceback": [
      "\u001b[0;31m---------------------------------------------------------------------------\u001b[0m",
      "\u001b[0;31mNameError\u001b[0m                                 Traceback (most recent call last)",
      "\u001b[0;32m/var/folders/dr/h4hntg_d6l143yrfyzfbjv3w0000gn/T/ipykernel_10067/3637708340.py\u001b[0m in \u001b[0;36m<module>\u001b[0;34m\u001b[0m\n\u001b[0;32m----> 1\u001b[0;31m \u001b[0;32mclass\u001b[0m \u001b[0mMinMaxAgent\u001b[0m\u001b[0;34m(\u001b[0m\u001b[0magent\u001b[0m\u001b[0;34m)\u001b[0m\u001b[0;34m:\u001b[0m\u001b[0;34m\u001b[0m\u001b[0;34m\u001b[0m\u001b[0m\n\u001b[0m\u001b[1;32m      2\u001b[0m     \u001b[0;32mdef\u001b[0m \u001b[0mselect_move\u001b[0m\u001b[0;34m(\u001b[0m\u001b[0mself\u001b[0m\u001b[0;34m,\u001b[0m \u001b[0mgame_state\u001b[0m\u001b[0;34m)\u001b[0m\u001b[0;34m:\u001b[0m\u001b[0;34m\u001b[0m\u001b[0;34m\u001b[0m\u001b[0m\n\u001b[1;32m      3\u001b[0m         \u001b[0mwining_moves\u001b[0m \u001b[0;34m=\u001b[0m \u001b[0;34m[\u001b[0m\u001b[0;34m]\u001b[0m\u001b[0;34m\u001b[0m\u001b[0;34m\u001b[0m\u001b[0m\n\u001b[1;32m      4\u001b[0m         \u001b[0mdraw_moves\u001b[0m \u001b[0;34m=\u001b[0m \u001b[0;34m[\u001b[0m\u001b[0;34m]\u001b[0m\u001b[0;34m\u001b[0m\u001b[0;34m\u001b[0m\u001b[0m\n\u001b[1;32m      5\u001b[0m         \u001b[0mlosing_moves\u001b[0m \u001b[0;34m=\u001b[0m \u001b[0;34m[\u001b[0m\u001b[0;34m]\u001b[0m\u001b[0;34m\u001b[0m\u001b[0;34m\u001b[0m\u001b[0m\n",
      "\u001b[0;31mNameError\u001b[0m: name 'agent' is not defined"
     ]
    }
   ],
   "source": [
    "class MinMaxAgent(agent):\n",
    "    def select_move(self, game_state):\n",
    "        wining_moves = []\n",
    "        draw_moves = []\n",
    "        losing_moves = []\n",
    "        for possible_move in game_state.legal_moves():\n",
    "            next_state = game_state.apply_move(possible_move)\n",
    "            opponent_best_outcome = best_result(next_state)\n",
    "            our_best_outcome = reverse_game_result(opponent_best_outcome)\n",
    "            if our_best_outcome == GameResult.win:\n",
    "                wining_moves.append(possible_move)\n",
    "            elif our_best_outcome == GameResult.draw:\n",
    "                draw_moves.append(possible_move)\n",
    "            else:\n",
    "                losing_moves.append(possible_move)\n",
    "        \n",
    "        if winning_moves:\n",
    "            return random.choice(winning_moves)\n",
    "        if draw_moves:\n",
    "            return random.choice(draw)\n",
    "        return random.choice(losing_moves)\n"
   ]
  },
  {
   "cell_type": "markdown",
   "id": "58d4e61d-9cf3-4ecd-a948-540e8a332f16",
   "metadata": {},
   "source": [
    "极小极大搜索的第一步："
   ]
  },
  {
   "cell_type": "code",
   "execution_count": 9,
   "id": "a6c13aa4-e955-453f-860f-604cf19d84ef",
   "metadata": {},
   "outputs": [
    {
     "ename": "SyntaxError",
     "evalue": "invalid syntax (3293049555.py, line 3)",
     "output_type": "error",
     "traceback": [
      "\u001b[0;36m  File \u001b[0;32m\"/var/folders/dr/h4hntg_d6l143yrfyzfbjv3w0000gn/T/ipykernel_10067/3293049555.py\"\u001b[0;36m, line \u001b[0;32m3\u001b[0m\n\u001b[0;31m    if game_state.winner() = game_state.next_player:\u001b[0m\n\u001b[0m                           ^\u001b[0m\n\u001b[0;31mSyntaxError\u001b[0m\u001b[0;31m:\u001b[0m invalid syntax\n"
     ]
    }
   ],
   "source": [
    "def best_result(game_state):\n",
    "    if game_state.is_over():\n",
    "        if game_state.winner() == game_state.next_player:\n",
    "            return gameResult.win\n",
    "        elif game_state.winner() is None:\n",
    "            return GameResult.draw\n",
    "        else: \n",
    "            return GameResult.loss\n",
    "        \n",
    "    best_result_so_far = GameResult.loss\n",
    "    for candidate_move in game_state.legal_moves():\n",
    "        next_state = game_state.apply_move(candidate_move)\n",
    "        opponent_best_result = best_result(next_state)\n",
    "        our_result = reverse_game_result(opponent_best_result)\n",
    "        if our_result.value > best_result_so_far.value:\n",
    "            best_result_so_far = our_result\n",
    "        return best_result_so_far"
   ]
  },
  {
   "cell_type": "markdown",
   "id": "2e89f438-aa90-460b-b363-60484f185c43",
   "metadata": {},
   "source": [
    "如果将这个算法用于类似井字棋这样的简单游戏，就会得到一个不会失败的棋手。"
   ]
  },
  {
   "cell_type": "markdown",
   "id": "76d02540-816e-4056-9322-c64f049a1050",
   "metadata": {},
   "source": [
    "## 通过剪枝算法缩减搜索空间\n",
    "\n",
    "两种剪枝技术：用于减少搜索深度的*棋局评估函数*，另一种是用与减少搜索跨度的$\\alpha \\beta$*剪枝*。\n",
    "这两项技术构成了经典棋盘游戏AI的支柱。"
   ]
  }
 ],
 "metadata": {
  "kernelspec": {
   "display_name": "Python 3 (ipykernel)",
   "language": "python",
   "name": "python3"
  },
  "language_info": {
   "codemirror_mode": {
    "name": "ipython",
    "version": 3
   },
   "file_extension": ".py",
   "mimetype": "text/x-python",
   "name": "python",
   "nbconvert_exporter": "python",
   "pygments_lexer": "ipython3",
   "version": "3.9.12"
  }
 },
 "nbformat": 4,
 "nbformat_minor": 5
}
