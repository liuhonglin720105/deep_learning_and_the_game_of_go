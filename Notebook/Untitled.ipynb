{
 "cells": [
  {
   "cell_type": "markdown",
   "id": "152b40bf-bb79-40fc-9527-705e3f099ae0",
   "metadata": {},
   "source": [
    "# 第三章 实现第一个围棋机器人\n",
    "- 在Python实现围棋棋盘\n",
    "- 实现落子动作序列，并模拟一盘棋局\n",
    "- 编码实现围棋规则，并确保落子动作的合法性\n",
    "- 构建一个简单的机器人，让它可以和自己的副本对决\n",
    "- 和机器人进行一场完整的对决"
   ]
  }
 ],
 "metadata": {
  "kernelspec": {
   "display_name": "Python 3 (ipykernel)",
   "language": "python",
   "name": "python3"
  },
  "language_info": {
   "codemirror_mode": {
    "name": "ipython",
    "version": 3
   },
   "file_extension": ".py",
   "mimetype": "text/x-python",
   "name": "python",
   "nbconvert_exporter": "python",
   "pygments_lexer": "ipython3",
   "version": "3.10.9"
  }
 },
 "nbformat": 4,
 "nbformat_minor": 5
}
