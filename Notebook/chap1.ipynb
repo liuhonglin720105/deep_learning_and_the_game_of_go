{
 "cells": [
  {
   "cell_type": "markdown",
   "id": "aaffbf3a-8461-4de9-a641-ac84e70e5f3e",
   "metadata": {},
   "source": [
    "# 第一章 走进深度学习：机器学习入门\n",
    "\n",
    "**主要内容**\n",
    "\n",
    "- 机器学习及其与传统编程的区别\n",
    "- 机器学习能解决以及不能解决的问题\n",
    "- 机器学习和人工智能的关系\n",
    "- 机器学习系统的结构\n",
    "- 机器学习的不同分支领域"
   ]
  },
  {
   "cell_type": "markdown",
   "id": "7f2fc3f8-b0e9-4bcc-b077-032bac40f040",
   "metadata": {},
   "source": [
    "`AlphaGo`的创造性突破，是用机器学习来增强经典AI算法。\n",
    "`AlphaGo`使用了被称为*深度学习*（deep learning）的现代技术，它是一种可以把原始数据组织成多个有意义的抽象层次的算法。\n",
    "这个技术超越了棋类游戏：图像识别、语音理解、自然语言翻译和机器任的控制程序中，都可以找到深度学习的应用。"
   ]
  },
  {
   "cell_type": "markdown",
   "id": "35d02083-13ba-4457-8404-6310788a293d",
   "metadata": {},
   "source": [
    "国际象棋和西洋跳棋的AI采取的设计策略：让AI比人类棋手想得更远、猜得更准。\n",
    "围棋不行：落子可能性太多，无法评价落子动作的优劣。"
   ]
  },
  {
   "cell_type": "markdown",
   "id": "de73bf4b-f29c-4466-9a83-18d3f490c927",
   "metadata": {},
   "source": [
    "## 1.1 什么是机器学习\n",
    "\n",
    "机器学习不直接实现算法，而是从样本数据推断出程序或算法。\n",
    "我们提供数据，向计算机*提供我们所希望的输出，让机器自己找到对应的算法*。"
   ]
  },
  {
   "cell_type": "markdown",
   "id": "ebbd5ff4-f026-4543-a757-0be92536011b",
   "metadata": {},
   "source": [
    "提供给机器用来训练的图片被称为*训练数据*，图片中人物的名称则被称为*标签*。\n",
    "在位一个木表*训练*出算法之后，可以用这个算法来*预测*新数据上的标签。"
   ]
  },
  {
   "cell_type": "markdown",
   "id": "b6a33db9-bb12-42a7-9c5d-7fffedfb34fd",
   "metadata": {},
   "source": [
    "将传统编程技术和先进的机器学习算法结合起来，往往会比只用其中一个要好得多。"
   ]
  },
  {
   "cell_type": "markdown",
   "id": "7c0f9cc8-a99a-4d87-86d9-18443f2e8ae9",
   "metadata": {},
   "source": [
    "### 1.1.1 机器学习和AI的关系\n",
    "机器学习是人工智能众多分支邻域之一。\n",
    "在经典AI中，研究者分析人类行为，试图找到相应的规则，然后编写成代码。\n",
    "而机器学习和深度学习解决问题的方式则完全相反：在机器学习里，我们先收集人类行为的样例，再用数学与统计学技术从数据中抽取规则。"
   ]
  },
  {
   "cell_type": "markdown",
   "id": "cf1faf2a-0122-48d3-9210-08caa07f7889",
   "metadata": {},
   "source": [
    "### 1.1.1 机器学习能做什么，不能做什么\n",
    "下面几种情况时，应该优先选择传统编程来解决问题。\n",
    "- 用传统算法就能直接解决问题\n",
    "- 希望程序准去无误\n",
    "- 简单的启发式规则已经足够好"
   ]
  },
  {
   "cell_type": "markdown",
   "id": "e7a57ee9-a5de-4b6c-b908-080fbd4b6b63",
   "metadata": {},
   "source": [
    "## 1.2 机器学习示例"
   ]
  },
  {
   "cell_type": "markdown",
   "id": "aaebd697-b50f-4eaf-a731-8a589b78d450",
   "metadata": {},
   "source": [
    "机器学习的目标是构建一个很难直接实现的函数。\n",
    "首先需要选择一个*模型*，即一族通用函数，然后要按照一个流程从这一族函数中选取与目标相匹配的函数。该流程被称作*模型训练*或者*模型拟合*。"
   ]
  },
  {
   "cell_type": "markdown",
   "id": "e02124a4-6c5c-4bc4-823d-ddb0163afdcf",
   "metadata": {},
   "source": [
    "### 1.2.1 在软件应用中使用机器学习\n",
    "### 1.2.2 监督学习\n",
    "### 1.2.3 无监督学习\n",
    "### 1.2.4 强化学习\n",
    "自己搜集数据"
   ]
  },
  {
   "cell_type": "markdown",
   "id": "34fa3706-11b3-47c4-ad04-6d591b3788e4",
   "metadata": {},
   "source": [
    "# 1.3 深度学习\n",
    "\n",
    "表征学习。\n",
    "\n",
    "深度学习：\n",
    "- 应用的数据可是是非结构化的\n",
    "- 有大量的可用数据，或者有办法获得更多数据\n",
    "- 有足够的计算能力或充足的时间\n",
    "\n",
    "传统模型：\n",
    "- 应用的数据是结构化的\n",
    "- 想要一个描述性的模型\n"
   ]
  },
  {
   "cell_type": "code",
   "execution_count": null,
   "id": "cb9780bd-adc3-4e40-a11a-8c42fb78e903",
   "metadata": {},
   "outputs": [],
   "source": []
  }
 ],
 "metadata": {
  "kernelspec": {
   "display_name": "Python 3 (ipykernel)",
   "language": "python",
   "name": "python3"
  },
  "language_info": {
   "codemirror_mode": {
    "name": "ipython",
    "version": 3
   },
   "file_extension": ".py",
   "mimetype": "text/x-python",
   "name": "python",
   "nbconvert_exporter": "python",
   "pygments_lexer": "ipython3",
   "version": "3.10.9"
  }
 },
 "nbformat": 4,
 "nbformat_minor": 5
}
